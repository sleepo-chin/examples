{
 "cells": [
  {
   "cell_type": "code",
   "execution_count": 1,
   "metadata": {},
   "outputs": [],
   "source": [
    "from pyspark.sql import SparkSession\n",
    "spark = SparkSession.builder \\\n",
    "    .master(\"local[*]\") \\\n",
    "    .appName(\"Learning_Spark\") \\\n",
    "    .getOrCreate()"
   ]
  },
  {
   "cell_type": "code",
   "execution_count": 2,
   "metadata": {},
   "outputs": [
    {
     "name": "stdout",
     "output_type": "stream",
     "text": [
      "--2020-09-27 12:20:32--  https://storage.googleapis.com/e6179e6244-1/vgsales.csv\n",
      "Resolving storage.googleapis.com (storage.googleapis.com)... 216.58.203.80, 216.58.196.48, 172.217.174.176, ...\n",
      "Connecting to storage.googleapis.com (storage.googleapis.com)|216.58.203.80|:443... connected.\n",
      "HTTP request sent, awaiting response... 200 OK\n",
      "Length: 1355781 (1.3M) [application/vnd.ms-excel]\n",
      "Saving to: ‘vgsales.csv’\n",
      "\n",
      "vgsales.csv         100%[===================>]   1.29M  6.85MB/s    in 0.2s    \n",
      "\n",
      "2020-09-27 12:20:32 (6.85 MB/s) - ‘vgsales.csv’ saved [1355781/1355781]\n",
      "\n"
     ]
    }
   ],
   "source": [
    "#!wget https://storage.googleapis.com/e6179e6244-1/vgsales.csv"
   ]
  },
  {
   "cell_type": "code",
   "execution_count": 4,
   "metadata": {},
   "outputs": [],
   "source": [
    "data = spark.read.csv('vgsales.csv',inferSchema=True, header=True)"
   ]
  },
  {
   "cell_type": "code",
   "execution_count": 5,
   "metadata": {},
   "outputs": [
    {
     "data": {
      "text/plain": [
       "(16598, 11)"
      ]
     },
     "execution_count": 5,
     "metadata": {},
     "output_type": "execute_result"
    }
   ],
   "source": [
    "data.count(), len(data.columns)"
   ]
  },
  {
   "cell_type": "code",
   "execution_count": 7,
   "metadata": {},
   "outputs": [
    {
     "name": "stdout",
     "output_type": "stream",
     "text": [
      "+----+--------------------+--------+----+------------+---------+--------+--------+--------+-----------+------------+\n",
      "|Rank|                Name|Platform|Year|       Genre|Publisher|NA_Sales|EU_Sales|JP_Sales|Other_Sales|Global_Sales|\n",
      "+----+--------------------+--------+----+------------+---------+--------+--------+--------+-----------+------------+\n",
      "|   1|          Wii Sports|     Wii|2006|      Sports| Nintendo|   41.49|   29.02|    3.77|       8.46|       82.74|\n",
      "|   2|   Super Mario Bros.|     NES|1985|    Platform| Nintendo|   29.08|    3.58|    6.81|       0.77|       40.24|\n",
      "|   3|      Mario Kart Wii|     Wii|2008|      Racing| Nintendo|   15.85|   12.88|    3.79|       3.31|       35.82|\n",
      "|   4|   Wii Sports Resort|     Wii|2009|      Sports| Nintendo|   15.75|   11.01|    3.28|       2.96|        33.0|\n",
      "|   5|Pokemon Red/Pokem...|      GB|1996|Role-Playing| Nintendo|   11.27|    8.89|   10.22|        1.0|       31.37|\n",
      "+----+--------------------+--------+----+------------+---------+--------+--------+--------+-----------+------------+\n",
      "only showing top 5 rows\n",
      "\n"
     ]
    }
   ],
   "source": [
    "data.show(5)"
   ]
  },
  {
   "cell_type": "code",
   "execution_count": 8,
   "metadata": {},
   "outputs": [
    {
     "name": "stdout",
     "output_type": "stream",
     "text": [
      "root\n",
      " |-- Rank: integer (nullable = true)\n",
      " |-- Name: string (nullable = true)\n",
      " |-- Platform: string (nullable = true)\n",
      " |-- Year: string (nullable = true)\n",
      " |-- Genre: string (nullable = true)\n",
      " |-- Publisher: string (nullable = true)\n",
      " |-- NA_Sales: double (nullable = true)\n",
      " |-- EU_Sales: double (nullable = true)\n",
      " |-- JP_Sales: double (nullable = true)\n",
      " |-- Other_Sales: double (nullable = true)\n",
      " |-- Global_Sales: double (nullable = true)\n",
      "\n"
     ]
    }
   ],
   "source": [
    "data.printSchema()"
   ]
  },
  {
   "cell_type": "code",
   "execution_count": 10,
   "metadata": {},
   "outputs": [
    {
     "name": "stdout",
     "output_type": "stream",
     "text": [
      "+---------------------------+--------+------------+---------+------------+\n",
      "|Name                       |Platform|Genre       |Publisher|Global_Sales|\n",
      "+---------------------------+--------+------------+---------+------------+\n",
      "|Wii Sports                 |Wii     |Sports      |Nintendo |82.74       |\n",
      "|Super Mario Bros.          |NES     |Platform    |Nintendo |40.24       |\n",
      "|Mario Kart Wii             |Wii     |Racing      |Nintendo |35.82       |\n",
      "|Wii Sports Resort          |Wii     |Sports      |Nintendo |33.0        |\n",
      "|Pokemon Red/Pokemon Blue   |GB      |Role-Playing|Nintendo |31.37       |\n",
      "|Tetris                     |GB      |Puzzle      |Nintendo |30.26       |\n",
      "|New Super Mario Bros.      |DS      |Platform    |Nintendo |30.01       |\n",
      "|Wii Play                   |Wii     |Misc        |Nintendo |29.02       |\n",
      "|New Super Mario Bros. Wii  |Wii     |Platform    |Nintendo |28.62       |\n",
      "|Duck Hunt                  |NES     |Shooter     |Nintendo |28.31       |\n",
      "|Nintendogs                 |DS      |Simulation  |Nintendo |24.76       |\n",
      "|Mario Kart DS              |DS      |Racing      |Nintendo |23.42       |\n",
      "|Pokemon Gold/Pokemon Silver|GB      |Role-Playing|Nintendo |23.1        |\n",
      "|Wii Fit                    |Wii     |Sports      |Nintendo |22.72       |\n",
      "|Wii Fit Plus               |Wii     |Sports      |Nintendo |22.0        |\n",
      "+---------------------------+--------+------------+---------+------------+\n",
      "only showing top 15 rows\n",
      "\n"
     ]
    }
   ],
   "source": [
    "data.select(\"Name\",\"Platform\",\"Genre\",\"Publisher\",\"Global_Sales\") \\\n",
    ".show(15, truncate=False)"
   ]
  },
  {
   "cell_type": "code",
   "execution_count": 11,
   "metadata": {},
   "outputs": [
    {
     "name": "stdout",
     "output_type": "stream",
     "text": [
      "+-------+------------------+\n",
      "|summary|      Global_Sales|\n",
      "+-------+------------------+\n",
      "|  count|             16598|\n",
      "|   mean|  0.53744065550074|\n",
      "| stddev|1.5550279355699066|\n",
      "|    min|              0.01|\n",
      "|    max|             82.74|\n",
      "+-------+------------------+\n",
      "\n"
     ]
    }
   ],
   "source": [
    "data.describe([\"Global_Sales\"]).show()"
   ]
  },
  {
   "cell_type": "code",
   "execution_count": 12,
   "metadata": {},
   "outputs": [
    {
     "name": "stdout",
     "output_type": "stream",
     "text": [
      "+--------+-----+\n",
      "|Platform|count|\n",
      "+--------+-----+\n",
      "|      DS| 2163|\n",
      "|     PS2| 2161|\n",
      "|     PS3| 1329|\n",
      "|     Wii| 1325|\n",
      "|    X360| 1265|\n",
      "|     PSP| 1213|\n",
      "|      PS| 1196|\n",
      "|      PC|  960|\n",
      "|      XB|  824|\n",
      "|     GBA|  822|\n",
      "+--------+-----+\n",
      "only showing top 10 rows\n",
      "\n"
     ]
    }
   ],
   "source": [
    "data.groupBy(\"Platform\") \\\n",
    ".count() \\\n",
    ".orderBy(\"count\", ascending=False) \\\n",
    ".show(10)"
   ]
  }
 ],
 "metadata": {
  "kernelspec": {
   "display_name": "Spark - Python (Kubernetes Mode)",
   "language": "python",
   "name": "spark_python_kubernetes"
  },
  "language_info": {
   "codemirror_mode": {
    "name": "ipython",
    "version": 3
   },
   "file_extension": ".py",
   "mimetype": "text/x-python",
   "name": "python",
   "nbconvert_exporter": "python",
   "pygments_lexer": "ipython3",
   "version": "3.7.8"
  }
 },
 "nbformat": 4,
 "nbformat_minor": 4
}
