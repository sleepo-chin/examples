{
 "cells": [
  {
   "cell_type": "markdown",
   "metadata": {
    "papermill": {
     "duration": 0.009039,
     "end_time": "2020-09-28T05:17:28.004297",
     "exception": false,
     "start_time": "2020-09-28T05:17:27.995258",
     "status": "completed"
    },
    "tags": []
   },
   "source": [
    "## Download a data set\n",
    "\n",
    "This notebook downloads a data set file from a public location. If the data set file is a compressed archive it will be decompressed. Upon completion the raw data set files  are located in the `data\\` directory.\n",
    "\n",
    "This notebook requires the following environment variables:\n",
    " -  `DATASET_URL` Public data set URL, e.g. `https://dax-cdn.cdn.appdomain.cloud/dax-fashion-mnist/1.0.2/fashion-mnist.tar.gz`"
   ]
  },
  {
   "cell_type": "code",
   "execution_count": 1,
   "metadata": {
    "execution": {
     "iopub.execute_input": "2020-09-28T05:17:28.025915Z",
     "iopub.status.busy": "2020-09-28T05:17:28.024846Z",
     "iopub.status.idle": "2020-09-28T05:17:28.090917Z",
     "shell.execute_reply": "2020-09-28T05:17:28.091589Z"
    },
    "papermill": {
     "duration": 0.079394,
     "end_time": "2020-09-28T05:17:28.091868",
     "exception": false,
     "start_time": "2020-09-28T05:17:28.012474",
     "status": "completed"
    },
    "tags": []
   },
   "outputs": [],
   "source": [
    "import os\n",
    "from pathlib import Path\n",
    "import requests\n",
    "import tarfile\n",
    "from urllib.parse import urlparse"
   ]
  },
  {
   "cell_type": "markdown",
   "metadata": {
    "papermill": {
     "duration": 0.008666,
     "end_time": "2020-09-28T05:17:28.109558",
     "exception": false,
     "start_time": "2020-09-28T05:17:28.100892",
     "status": "completed"
    },
    "tags": []
   },
   "source": [
    "Verify that the `DATASET_URL` environment variable is set. If it is not set, a RuntimeError is raised."
   ]
  },
  {
   "cell_type": "code",
   "execution_count": 2,
   "metadata": {
    "execution": {
     "iopub.execute_input": "2020-09-28T05:17:28.130082Z",
     "iopub.status.busy": "2020-09-28T05:17:28.129210Z",
     "iopub.status.idle": "2020-09-28T05:17:28.131609Z",
     "shell.execute_reply": "2020-09-28T05:17:28.132250Z"
    },
    "papermill": {
     "duration": 0.01479,
     "end_time": "2020-09-28T05:17:28.132410",
     "exception": false,
     "start_time": "2020-09-28T05:17:28.117620",
     "status": "completed"
    },
    "tags": []
   },
   "outputs": [],
   "source": [
    "if os.environ.get('DATASET_URL') is None:\n",
    "    raise RuntimeError('Cannot run notebook. Required parameter is missing.')\n",
    "    \n",
    "data_file = os.environ['DATASET_URL']"
   ]
  },
  {
   "cell_type": "markdown",
   "metadata": {
    "papermill": {
     "duration": 0.008552,
     "end_time": "2020-09-28T05:17:28.149906",
     "exception": false,
     "start_time": "2020-09-28T05:17:28.141354",
     "status": "completed"
    },
    "tags": []
   },
   "source": [
    "Download the data set from the location specified in `dataset_url`, extract it (if it is compressed) and store it in the directory identified by `data_dir_name`."
   ]
  },
  {
   "cell_type": "code",
   "execution_count": 3,
   "metadata": {
    "execution": {
     "iopub.execute_input": "2020-09-28T05:17:28.177956Z",
     "iopub.status.busy": "2020-09-28T05:17:28.174682Z",
     "iopub.status.idle": "2020-09-28T05:17:29.740368Z",
     "shell.execute_reply": "2020-09-28T05:17:29.740998Z"
    },
    "papermill": {
     "duration": 1.582592,
     "end_time": "2020-09-28T05:17:29.741161",
     "exception": false,
     "start_time": "2020-09-28T05:17:28.158569",
     "status": "completed"
    },
    "tags": []
   },
   "outputs": [
    {
     "name": "stdout",
     "output_type": "stream",
     "text": [
      "Downloading data file https://dax-cdn.cdn.appdomain.cloud/dax-noaa-weather-data-jfk-airport/1.1.4/noaa-weather-data-jfk-airport.tar.gz ...\n"
     ]
    },
    {
     "name": "stdout",
     "output_type": "stream",
     "text": [
      "Saving downloaded file \"noaa-weather-data-jfk-airport.tar.gz\" as ...\n",
      "Extracting downloaded file in directory \"data\" ...\n"
     ]
    },
    {
     "name": "stdout",
     "output_type": "stream",
     "text": [
      "Removing downloaded file ...\n"
     ]
    }
   ],
   "source": [
    "data_dir_name = 'data'\n",
    "\n",
    "print('Downloading data file {} ...'.format(data_file))\n",
    "r = requests.get(data_file)\n",
    "if r.status_code != 200:\n",
    "    raise RuntimeError('Could not fetch {}: HTTP status code {}'.format(data_file, r.status_code))\n",
    "else:\n",
    "    # extract data set file name from URL \n",
    "    data_file_name = Path((urlparse(data_file).path)).name\n",
    "    # create the directory where the downloaded file will be stored\n",
    "    data_dir = Path(data_dir_name)    \n",
    "    data_dir.mkdir(parents=True, exist_ok=True)\n",
    "    downloaded_data_file = data_dir / data_file_name\n",
    "\n",
    "    print('Saving downloaded file \"{}\" as ...'.format(data_file_name))\n",
    "    with open(downloaded_data_file, 'wb') as downloaded_file:\n",
    "        downloaded_file.write(r.content)\n",
    "    \n",
    "    if r.headers['content-type'] == 'application/x-tar':\n",
    "        print('Extracting downloaded file in directory \"{}\" ...'.format(data_dir))\n",
    "        with tarfile.open(downloaded_data_file, 'r') as tar:\n",
    "            tar.extractall(data_dir)\n",
    "        print('Removing downloaded file ...')\n",
    "        downloaded_data_file.unlink()"
   ]
  },
  {
   "cell_type": "markdown",
   "metadata": {
    "papermill": {
     "duration": 0.009098,
     "end_time": "2020-09-28T05:17:29.759681",
     "exception": false,
     "start_time": "2020-09-28T05:17:29.750583",
     "status": "completed"
    },
    "tags": []
   },
   "source": [
    "Display list of extracted data files"
   ]
  },
  {
   "cell_type": "code",
   "execution_count": 4,
   "metadata": {
    "execution": {
     "iopub.execute_input": "2020-09-28T05:17:29.782338Z",
     "iopub.status.busy": "2020-09-28T05:17:29.781614Z",
     "iopub.status.idle": "2020-09-28T05:17:29.892497Z",
     "shell.execute_reply": "2020-09-28T05:17:29.893043Z"
    },
    "papermill": {
     "duration": 0.124196,
     "end_time": "2020-09-28T05:17:29.893198",
     "exception": false,
     "start_time": "2020-09-28T05:17:29.769002",
     "status": "completed"
    },
    "tags": []
   },
   "outputs": [
    {
     "name": "stdout",
     "output_type": "stream",
     "text": [
      "noaa-weather-data-jfk-airport\r\n"
     ]
    }
   ],
   "source": [
    "! ls data/"
   ]
  }
 ],
 "metadata": {
  "kernelspec": {
   "display_name": "Python 3",
   "language": "python",
   "name": "python3"
  },
  "language_info": {
   "codemirror_mode": {
    "name": "ipython",
    "version": 3
   },
   "file_extension": ".py",
   "mimetype": "text/x-python",
   "name": "python",
   "nbconvert_exporter": "python",
   "pygments_lexer": "ipython3",
   "version": "3.7.8"
  },
  "papermill": {
   "duration": 3.132769,
   "end_time": "2020-09-28T05:17:30.110007",
   "environment_variables": {},
   "exception": null,
   "input_path": "/home/jovyan/work/Elyra/examples/pipelines/hello_world/load_data.ipynb",
   "output_path": "/home/jovyan/work/Elyra/examples/pipelines/hello_world/load_data.ipynb",
   "parameters": {},
   "start_time": "2020-09-28T05:17:26.977238",
   "version": "2.1.1"
  }
 },
 "nbformat": 4,
 "nbformat_minor": 4
}